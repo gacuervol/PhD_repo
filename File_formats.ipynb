{
 "cells": [
  {
   "cell_type": "markdown",
   "metadata": {},
   "source": [
    "# File formats in forecats\n",
    "---\n",
    "En este notebook se explican los diferentes formato de archivos usados por los modelos de predicción climática.\n",
    "\n",
    "> **GRIB:**\n",
    ">\n",
    "> Es un formato utilizado para almacenar datos meteorológicos definido por la Organización Meteorológica Mundial para almacenar y distribuir datos reticulados. Sus siglas significan: \"General Regularly distributed Information in Binary form\" por tanto es un archivo en formato binario para incrementar la eficiencia a la hora de ser almacenados. Estos archivos están conformados por mensajes GRIB que se concatenan para formar un archivo GRIB. Los archivos GRIB suelen tener la extensión .grib, .grb o .gb.\n",
    ">\n",
    "> Puede encontrar más información en la página de [ECMWF](https://confluence.ecmwf.int/display/CKB/What+are+GRIB+files+and+how+can+I+read+them#heading-Introduction) "
   ]
  },
  {
   "cell_type": "code",
   "execution_count": 14,
   "metadata": {},
   "outputs": [],
   "source": [
    "import sys\n",
    "import os\n",
    "import importlib"
   ]
  },
  {
   "cell_type": "code",
   "execution_count": 1,
   "metadata": {},
   "outputs": [],
   "source": [
    "import pygrib"
   ]
  },
  {
   "cell_type": "code",
   "execution_count": 4,
   "metadata": {},
   "outputs": [
    {
     "name": "stdout",
     "output_type": "stream",
     "text": [
      "20080101\n"
     ]
    }
   ],
   "source": [
    "with pygrib.open(r\"C:\\Users\\gcuervo\\OneDrive - Universidad de Las Palmas de Gran Canaria\\Documents\\Doctorado\\PhD_repo\\download.grib\") as grib:\n",
    "    # Create an empty dictionary to hold data:\n",
    "    data = {}\n",
    "    # Iterate over messages in grib file:\n",
    "    for message in grib:\n",
    "        # Extract key names:\n",
    "        date = str(message.date)\n",
    "        print(date)\n",
    "        hour = '0' + \\\n",
    "            str(message.hour) if message.hour < 10 else str(message.hour)\n",
    "        time = date+hour\n",
    "        level = message.level\n",
    "        variable = message.name\n",
    "        # Add data and missing keys to nested dictionary:\n",
    "        if time not in data:\n",
    "            data[time] = {}\n",
    "        if level not in data[time]:\n",
    "            data[time][level] = {}\n",
    "        data[time][level][variable] = message.values"
   ]
  },
  {
   "cell_type": "code",
   "execution_count": 5,
   "metadata": {},
   "outputs": [
    {
     "data": {
      "text/plain": [
       "dict_keys(['2008010112'])"
      ]
     },
     "execution_count": 5,
     "metadata": {},
     "output_type": "execute_result"
    },
    {
     "ename": "",
     "evalue": "",
     "output_type": "error",
     "traceback": [
      "\u001b[1;31mThe Kernel crashed while executing code in the current cell or a previous cell. \n",
      "\u001b[1;31mPlease review the code in the cell(s) to identify a possible cause of the failure. \n",
      "\u001b[1;31mClick <a href='https://aka.ms/vscodeJupyterKernelCrash'>here</a> for more info. \n",
      "\u001b[1;31mView Jupyter <a href='command:jupyter.viewOutput'>log</a> for further details."
     ]
    }
   ],
   "source": [
    "data.keys()"
   ]
  }
 ],
 "metadata": {
  "kernelspec": {
   "display_name": "art1_pyenv",
   "language": "python",
   "name": "python3"
  },
  "language_info": {
   "name": "python",
   "version": "3.11.7"
  }
 },
 "nbformat": 4,
 "nbformat_minor": 2
}

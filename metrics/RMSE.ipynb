{
 "cells": [
  {
   "cell_type": "markdown",
   "metadata": {},
   "source": [
    "# Métricas\n",
    "---\n",
    "Las metricas utilizadas en *Forescast data driven models* son diferentes a las utilizadas en otras áreas de *Deep learning*."
   ]
  },
  {
   "cell_type": "markdown",
   "metadata": {},
   "source": [
    "## latitude-weighted Root Mean Square Error (RMSE)\n",
    "---\n",
    "Se calculas para cada varaible para un nivel verical dado (i.e. $T500$ temperatura a 500 m de altura $RMSE_{500}$).\n",
    "\n",
    "Es el RMSE pero promediado a traves de las dimensiones:\n",
    "> * Longitud $j$: $[1, \\ldots, J]$ \n",
    "> * Latitud: $i$: $[1, \\ldots, I]$\n",
    "> * Tiempo: $t$: $[1, \\ldots, T]$\n",
    "\n",
    "$$\n",
    "\n",
    "\\mathrm{RMSE}_l=\\sqrt{\\frac{1}{T I J} \\sum_t^T \\sum_i^I \\sum_j^J w(i)\\left(f_{t, i, j}-o_{t, i, j}\\right)^2}\n",
    "\n",
    "$$\n",
    "\n",
    "> **Donde:**\n",
    "> * $f$: Forecast \n",
    "> * $o$: Ground truth (ERA 5) \n",
    "> * $w$: Latitud weights \n",
    "\n",
    "**Latitud weights:** Debido a que las celdas en altas latitudes son mas pequeñas comparadas con las de bajas latitudes se pondera el error de la siguiente forma:\n",
    "\n",
    "$$\n",
    "\n",
    "w(i)=\\frac{\\sin \\theta_i^{\\mathrm{u}}-\\sin \\theta_i^{\\mathrm{l}}}{\\frac{1}{I} \\sum_i^I\\left(\\sin \\theta_i^{\\mathrm{u}}-\\sin \\theta_i^{\\mathrm{l}}\\right)}\n",
    "\n",
    "$$\n",
    "\n",
    "Donde $θ^u_i$ and $θ^l_i$ indican los límites superior e inferior de la celda con indice de latitud $i$ respectivamente."
   ]
  }
 ],
 "metadata": {
  "language_info": {
   "name": "python"
  }
 },
 "nbformat": 4,
 "nbformat_minor": 2
}

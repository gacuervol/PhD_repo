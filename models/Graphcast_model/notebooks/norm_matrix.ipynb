{
 "cells": [
  {
   "cell_type": "markdown",
   "metadata": {},
   "source": [
    "# Normalization matrices\n",
    "---\n",
    "This notebook compute the data's normalization matrices for GraphCast training. "
   ]
  },
  {
   "cell_type": "code",
   "execution_count": 2,
   "metadata": {},
   "outputs": [],
   "source": [
    "import copernicusmarine\n",
    "import xarray as xr"
   ]
  },
  {
   "cell_type": "markdown",
   "metadata": {},
   "source": [
    "## Get data\n",
    "---"
   ]
  },
  {
   "cell_type": "code",
   "execution_count": 3,
   "metadata": {},
   "outputs": [],
   "source": [
    "satelite = \"cmems-IFREMER-ATL-SST-L4-REP-OBS_FULL_TIME_SERIE\""
   ]
  },
  {
   "cell_type": "code",
   "execution_count": 4,
   "metadata": {},
   "outputs": [
    {
     "name": "stdout",
     "output_type": "stream",
     "text": [
      "INFO - 2024-03-12T17:19:29Z - Dataset version was not specified, the latest one was selected: \"202012\"\n",
      "INFO - 2024-03-12T17:19:29Z - Dataset part was not specified, the first one was selected: \"default\"\n"
     ]
    },
    {
     "name": "stderr",
     "output_type": "stream",
     "text": [
      "c:\\Users\\gcuervo\\miniconda3\\envs\\art1_pyenv\\Lib\\site-packages\\gribapi\\__init__.py:23: UserWarning: ecCodes 2.31.0 or higher is recommended. You are running version 2.23.0\n",
      "  warnings.warn(\n"
     ]
    },
    {
     "name": "stdout",
     "output_type": "stream",
     "text": [
      "INFO - 2024-03-12T17:19:30Z - Service was not specified, the default one was selected: \"arco-geo-series\"\n"
     ]
    }
   ],
   "source": [
    "SST_SAT = copernicusmarine.open_dataset(dataset_id=satelite,)"
   ]
  },
  {
   "cell_type": "markdown",
   "metadata": {},
   "source": [
    "# Compute norm matrices\n",
    "---"
   ]
  },
  {
   "cell_type": "code",
   "execution_count": 6,
   "metadata": {},
   "outputs": [],
   "source": [
    "SST_SAT_mean = SST_SAT.mean()\n",
    "SST_SAT_mean"
   ]
  },
  {
   "cell_type": "code",
   "execution_count": null,
   "metadata": {},
   "outputs": [],
   "source": [
    "SST_SAT_std = SST_SAT.std()\n",
    "SST_SAT_std"
   ]
  },
  {
   "cell_type": "code",
   "execution_count": null,
   "metadata": {},
   "outputs": [],
   "source": [
    "SST_SAT_diff_std = (SST_SAT[\"analysed_sst\"].isel(time=slice(1, -1)) \n",
    "                    - SST_SAT[\"analysed_sst\"].isel(time=slice(0,-2)).data\n",
    "                    ).std(dim=('latitude', 'longitude', 'time'))\n",
    "SST_SAT_diff_std"
   ]
  }
 ],
 "metadata": {
  "kernelspec": {
   "display_name": "art1_pyenv",
   "language": "python",
   "name": "python3"
  },
  "language_info": {
   "codemirror_mode": {
    "name": "ipython",
    "version": 3
   },
   "file_extension": ".py",
   "mimetype": "text/x-python",
   "name": "python",
   "nbconvert_exporter": "python",
   "pygments_lexer": "ipython3",
   "version": "3.11.5"
  }
 },
 "nbformat": 4,
 "nbformat_minor": 2
}
